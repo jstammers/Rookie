{
 "cells": [
  {
   "cell_type": "markdown",
   "metadata": {},
   "source": [
    "# Chess Test Notebook\n",
    "This notebook is used to test my Chess program, because the command prompt won't display utf-8"
   ]
  },
  {
   "cell_type": "code",
   "execution_count": 6,
   "metadata": {
    "ExecuteTime": {
     "end_time": "2016-04-17T23:49:34.782000",
     "start_time": "2016-04-17T23:49:34.779000"
    },
    "collapsed": false
   },
   "outputs": [],
   "source": [
    "from chess import *"
   ]
  },
  {
   "cell_type": "code",
   "execution_count": 7,
   "metadata": {
    "ExecuteTime": {
     "end_time": "2016-04-17T23:49:35.352000",
     "start_time": "2016-04-17T23:49:35.321000"
    },
    "collapsed": false
   },
   "outputs": [
    {
     "name": "stdout",
     "output_type": "stream",
     "text": [
      "[u'\\u265c', u'\\u265e', u'\\u265d', u'\\u265b', u'\\u265a', u'\\u265d', u'\\u265e', u'\\u265c']\n",
      "[u'\\u265f', u'\\u265f', u'\\u265f', u'\\u265f', u'\\u265f', u'\\u265f', u'\\u265f', u'\\u265f']\n",
      "[u'', u'', u'', u'', u'', u'', u'', u'']\n",
      "[u'', u'', u'', u'', u'', u'', u'', u'']\n",
      "[u'', u'', u'', u'', u'', u'', u'', u'']\n",
      "[u'', u'', u'', u'', u'', u'', u'', u'']\n",
      "[u'\\u2659', u'\\u2659', u'\\u2659', u'\\u2659', u'\\u2659', u'\\u2659', u'\\u2659', u'\\u2659']\n",
      "[u'\\u2656', u'\\u2658', u'\\u2657', u'\\u2655', u'\\u2654', u'', u'\\u2657', u'']\n"
     ]
    },
    {
     "ename": "TypeError",
     "evalue": "__str__ returned non-string (type NoneType)",
     "output_type": "error",
     "traceback": [
      "\u001b[1;31m---------------------------------------------------------------------------\u001b[0m",
      "\u001b[1;31mTypeError\u001b[0m                                 Traceback (most recent call last)",
      "\u001b[1;32m<ipython-input-7-c5c01eaa42bd>\u001b[0m in \u001b[0;36m<module>\u001b[1;34m()\u001b[0m\n\u001b[0;32m      2\u001b[0m \u001b[0mb\u001b[0m \u001b[1;33m=\u001b[0m \u001b[0mBoard\u001b[0m\u001b[1;33m(\u001b[0m\u001b[1;33m)\u001b[0m\u001b[1;33m\u001b[0m\u001b[0m\n\u001b[0;32m      3\u001b[0m \u001b[0mb\u001b[0m\u001b[1;33m.\u001b[0m\u001b[0mpopulate\u001b[0m\u001b[1;33m(\u001b[0m\u001b[1;33m)\u001b[0m\u001b[1;33m\u001b[0m\u001b[0m\n\u001b[1;32m----> 4\u001b[1;33m \u001b[1;32mprint\u001b[0m \u001b[0mb\u001b[0m\u001b[1;33m\u001b[0m\u001b[0m\n\u001b[0m",
      "\u001b[1;31mTypeError\u001b[0m: __str__ returned non-string (type NoneType)"
     ]
    }
   ],
   "source": [
    "#Test the board population\n",
    "b = Board()\n",
    "b.populate()\n",
    "print b"
   ]
  },
  {
   "cell_type": "code",
   "execution_count": null,
   "metadata": {
    "collapsed": true
   },
   "outputs": [],
   "source": []
  }
 ],
 "metadata": {
  "kernelspec": {
   "display_name": "Python 2.7",
   "language": "python",
   "name": "py27"
  },
  "language_info": {
   "codemirror_mode": {
    "name": "ipython",
    "version": 2
   },
   "file_extension": ".py",
   "mimetype": "text/x-python",
   "name": "python",
   "nbconvert_exporter": "python",
   "pygments_lexer": "ipython2",
   "version": "2.7.11"
  },
  "latex_envs": {
   "bibliofile": "biblio.bib",
   "cite_by": "apalike",
   "current_citInitial": 1,
   "eqLabelWithNumbers": true,
   "eqNumInitial": 0
  },
  "toc": {
   "toc_cell": false,
   "toc_number_sections": true,
   "toc_threshold": 6,
   "toc_window_display": false
  }
 },
 "nbformat": 4,
 "nbformat_minor": 0
}
