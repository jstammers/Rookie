{
 "cells": [
  {
   "cell_type": "markdown",
   "metadata": {},
   "source": [
    "# Chess Test Notebook\n",
    "This notebook is used to test my Chess program, because the command prompt won't display utf-8"
   ]
  },
  {
   "cell_type": "code",
   "execution_count": 1,
   "metadata": {
    "ExecuteTime": {
     "end_time": "2016-04-18T00:00:49.327000",
     "start_time": "2016-04-18T00:00:49.313000"
    },
    "collapsed": false
   },
   "outputs": [],
   "source": [
    "# -*- coding: utf-8 -*-\n",
    "from __future__ import unicode_literals\n",
    "from chess import *"
   ]
  },
  {
   "cell_type": "code",
   "execution_count": 2,
   "metadata": {
    "ExecuteTime": {
     "end_time": "2016-04-18T00:00:49.930000",
     "start_time": "2016-04-18T00:00:49.910000"
    },
    "collapsed": false
   },
   "outputs": [
    {
     "name": "stdout",
     "output_type": "stream",
     "text": [
      "♜|♞|♝|♛|♚|♝|♞|♜\n",
      "♟|♟|♟|♟|♟|♟|♟|♟\n",
      "|||||||\n",
      "|||||||\n",
      "|||||||\n",
      "|||||||\n",
      "♙|♙|♙|♙|♙|♙|♙|♙\n",
      "♖|♘|♗|♕|♔||♗|\n",
      "\n"
     ]
    }
   ],
   "source": [
    "#Test the board population\n",
    "b = Board()\n",
    "b.populate()\n",
    "print b"
   ]
  },
  {
   "cell_type": "code",
   "execution_count": 4,
   "metadata": {
    "ExecuteTime": {
     "end_time": "2016-04-17T23:57:41.663000",
     "start_time": "2016-04-17T23:57:41.655000"
    },
    "collapsed": false
   },
   "outputs": [
    {
     "name": "stdout",
     "output_type": "stream",
     "text": [
      "♙\n"
     ]
    }
   ],
   "source": [
    "print u'\\u2659'"
   ]
  },
  {
   "cell_type": "code",
   "execution_count": null,
   "metadata": {
    "collapsed": true
   },
   "outputs": [],
   "source": []
  }
 ],
 "metadata": {
  "kernelspec": {
   "display_name": "Python 2.7",
   "language": "python",
   "name": "py27"
  },
  "language_info": {
   "codemirror_mode": {
    "name": "ipython",
    "version": 2
   },
   "file_extension": ".py",
   "mimetype": "text/x-python",
   "name": "python",
   "nbconvert_exporter": "python",
   "pygments_lexer": "ipython2",
   "version": "2.7.11"
  },
  "latex_envs": {
   "bibliofile": "biblio.bib",
   "cite_by": "apalike",
   "current_citInitial": 1,
   "eqLabelWithNumbers": true,
   "eqNumInitial": 0
  },
  "toc": {
   "toc_cell": false,
   "toc_number_sections": true,
   "toc_threshold": 6,
   "toc_window_display": false
  }
 },
 "nbformat": 4,
 "nbformat_minor": 0
}
